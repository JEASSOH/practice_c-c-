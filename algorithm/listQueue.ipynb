{
  "nbformat": 4,
  "nbformat_minor": 0,
  "metadata": {
    "colab": {
      "name": "listQueue.ipynb",
      "provenance": [],
      "collapsed_sections": []
    },
    "kernelspec": {
      "name": "python3",
      "display_name": "Python 3"
    },
    "language_info": {
      "name": "python"
    }
  },
  "cells": [
    {
      "cell_type": "code",
      "execution_count": 79,
      "metadata": {
        "id": "uIadtjcYwA2d"
      },
      "outputs": [],
      "source": [
        "class ListQueue:\n",
        "\tdef __init__(self):\n",
        "\t\tself.__queue = []\n",
        "\t\t\n",
        "\n",
        "\tdef enqueueRear(self, x):\n",
        "\t\tself.__queue.append(x)\n",
        "\n",
        "\tdef dequeueFront(self):\n",
        "\t\treturn self.__queue.pop(0) # .pop(0): 리스트의 첫 원소를 삭제한 후 원소 리턴\n",
        "\n",
        "\tdef enqueueFront(self,x):\n",
        "\t\tself.__queue.insert(0,x)\n",
        "\t\t\t\n",
        "\tdef dequeueRear(self):\n",
        "\t\tcur = int(0)\n",
        "\t\tfor i in range(len(self.__queue)):\n",
        "\t\t\tcur = cur + 1\n",
        "\n",
        "\t\treturn self.__queue.pop(cur-1)\n",
        "\n",
        "\n",
        "\tdef front(self):\n",
        "\t\tif self.isEmpty():\n",
        "\t\t\treturn None\n",
        "\t\telse:\n",
        "\t\t\treturn self.__queue[0]\n",
        "\n",
        "\tdef isEmpty(self) -> bool:\n",
        "\t\treturn (len(self.__queue) == 0);\n",
        " \n",
        "\tdef dequeueAll(self):\n",
        "\t\tself.__queue.clear()\n",
        "\n",
        "\tdef printQueue(self):\n",
        "\t\tprint(\"Queue from front:\", end = ' ')\n",
        "\t\tfor i in range(len(self.__queue)):\n",
        "\t\t\tprint(self.__queue[i], end = ' ')\n",
        "\t\tprint()\n"
      ]
    },
    {
      "cell_type": "code",
      "source": [
        "q1 = ListQueue()\n",
        "q1.enqueueRear(\"Mon\")\n",
        "q1.enqueueRear(\"Tue\")\n",
        "q1.enqueueRear(1234)\n",
        "q1.enqueueRear(\"Wed\")\n",
        "q1.printQueue()\n",
        "q1.dequeueRear()\n",
        "q1.printQueue()\n",
        "q1.enqueueFront(\"123422\")\n",
        "q1.enqueueFront(\"1234223232323\")\n",
        "q1.printQueue()"
      ],
      "metadata": {
        "id": "WKcxPudSyg4u",
        "colab": {
          "base_uri": "https://localhost:8080/"
        },
        "outputId": "c31c28e3-dd3d-45ed-baa2-5113bc895a1e"
      },
      "execution_count": 80,
      "outputs": [
        {
          "output_type": "stream",
          "name": "stdout",
          "text": [
            "Queue from front: Mon Tue 1234 Wed \n",
            "Queue from front: Mon Tue 1234 \n",
            "Queue from front: 1234223232323 123422 Mon Tue 1234 \n"
          ]
        }
      ]
    }
  ]
}