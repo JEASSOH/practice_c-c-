{
  "nbformat": 4,
  "nbformat_minor": 0,
  "metadata": {
    "colab": {
      "name": "listStacdsfsak.ipynb",
      "provenance": [],
      "collapsed_sections": []
    },
    "kernelspec": {
      "name": "python3",
      "display_name": "Python 3"
    },
    "language_info": {
      "name": "python"
    }
  },
  "cells": [
    {
      "cell_type": "code",
      "execution_count": 3,
      "metadata": {
        "id": "51IhP6GIf8vy"
      },
      "outputs": [],
      "source": [
        "class ListStack:\n",
        "\tdef __init__(self):\n",
        "\t\tself.__stack = []\n",
        "\n",
        "\tdef push(self, x):\n",
        "\t\tself.__stack.append(x)\n",
        "\n",
        "\tdef pop(self):\n",
        "\t\treturn self.__stack.pop()\n",
        "\n",
        "\tdef top(self):\n",
        "\t\tif self.isEmpty():\n",
        "\t\t\treturn None\n",
        "\t\telse:\n",
        "\t\t\treturn self.__stack[-1]\n",
        "\n",
        "\tdef isEmpty(self) -> bool:\n",
        "\t\treturn not bool(self.__stack)\n",
        "\n",
        "\tdef popAll(self):\n",
        "\t\tself.__stack.clear() \n",
        "\n",
        "\tdef printStack(self):\n",
        "\t\tprint(\"Stack from top:\", end = ' ')\n",
        "\t\tfor i in range(len(self.__stack)-1, -1, -1):\n",
        "\t\t\tprint(self.__stack[i], end = ' ')\n",
        "\t\tprint()\n",
        "\n",
        "# 코드 6-6"
      ]
    },
    {
      "cell_type": "code",
      "source": [
        "st1 = ListStack()\n",
        "print(st1.top())\t# No effect\n",
        "st1.push(100)\n",
        "st1.push(200)\n",
        "print(\"Top is\", st1.top())\n",
        "st1.pop()\n",
        "st1.push('Monday')\n",
        "st1.printStack()\n",
        "print('isEmpty?', st1.isEmpty())\n",
        "\n",
        "# 코드 6-7"
      ],
      "metadata": {
        "id": "InFe4SK3f_yx",
        "colab": {
          "base_uri": "https://localhost:8080/"
        },
        "outputId": "9720a33c-9359-4ba5-a5f2-62393e26b639"
      },
      "execution_count": 4,
      "outputs": [
        {
          "output_type": "stream",
          "name": "stdout",
          "text": [
            "None\n",
            "Top is 200\n",
            "Stack from top: Monday 100 \n",
            "isEmpty? False\n"
          ]
        }
      ]
    },
    {
      "cell_type": "code",
      "source": [
        "def reverse(str):\n",
        "\tst = ListStack()\n",
        "\tfor i in range(len(str)):\n",
        "\t\tst.push(str[i])\n",
        "\tout = \"\"\n",
        "\twhile not st.isEmpty():\n",
        "\t\tout += st.pop()\n",
        "\treturn out\n",
        "\n",
        "def main():\n",
        "\tinput = \"I love you!\"  # 테스트 입력 문자열 String\n",
        "\tanswer = reverse(input)\n",
        "\tprint(\"Input string: \", input)\n",
        "\tprint(\"Reversed string: \", answer)\n",
        "\n",
        "if __name__ == \"__main__\":\n",
        "\tmain()"
      ],
      "metadata": {
        "id": "5_-dj9wyhOPX",
        "colab": {
          "base_uri": "https://localhost:8080/"
        },
        "outputId": "6a90f080-32e2-4ec9-d119-ba81bf0b6194"
      },
      "execution_count": 5,
      "outputs": [
        {
          "output_type": "stream",
          "name": "stdout",
          "text": [
            "Input string:  I love you!\n",
            "Reversed string:  !uoy evol I\n"
          ]
        }
      ]
    },
    {
      "cell_type": "code",
      "source": [
        "def evaluate(p):\n",
        "\ts = ListStack()\n",
        "\tdigitPreviously = False\n",
        "\tfor i in range(len(p)):\n",
        "\t\tch = p[i] #  i번 문자. 번호는 0번부터\n",
        "\t\tif ch.isdigit():\t# ch가 숫자\n",
        "\t\t\tif digitPreviously:\n",
        "\t\t\t\ttmp = s.pop()\n",
        "\t\t\t\ttmp = 10 * tmp + (ord(ch) - ord('0'))\n",
        "\t\t\t\ts.push(tmp)\n",
        "\t\t\telse:\n",
        "\t\t\t\ts.push(ord(ch) - ord('0'))\n",
        "\t\t\t\tdigitPreviously = True\n",
        "\t\telif isOperator(ch): # ch가 연산자\n",
        "\t\t\ts.push(operation(s.pop(), s.pop(), ch))\n",
        "\t\t\tdigitPreviously = False\n",
        "\t\telse:\t\t# ch가 공백\n",
        "\t\t\tdigitPreviously = False\n",
        "\treturn s.pop()\n",
        "\n",
        "def isOperator(ch) -> bool:  # 연산자인가?\n",
        "\treturn (ch == '+' or ch == '-' or ch == '*' or ch == '/')\n",
        "\n",
        "def operation(opr2:int, opr1:int, ch) -> int:  # 연산하기\n",
        "\t\treturn {'+': opr1 + opr2, '-': opr1 - opr2, '*': opr1 * opr2, '/': opr1 // opr2}[ch]\n",
        "\n",
        "def solution(s: str) -> bool:\n",
        "    d = {')' : '('}\n",
        "    stack = []\n",
        "    for i in s:\n",
        "        if i in '(':\n",
        "            stack.append(i)\n",
        "        elif i in ')':\n",
        "            if stack:\n",
        "                top = stack.pop()\n",
        "                if d[i] != top:\n",
        "                    return False\n",
        "            else:\n",
        "                return False\n",
        "    return len(stack) == 0\n",
        "\n",
        "def main():\n",
        "\n",
        "\tpostfix = \"(700 3 47)(\"\n",
        "\tpostfix1 = \"(700 3 47)()\"\n",
        "\tpostfix2 = \"(700 3 47)(((\"  # 테스트 샘플 입력(후위 표현식)\n",
        "\taaa = solution(postfix)\n",
        "\tprint(aaa)\n",
        "\tprint(solution(postfix1))\n",
        "\tprint(solution(postfix2))\n",
        "if __name__ == \"__main__\":\n",
        "\tmain()\n",
        "\n",
        "# 코드 6-16"
      ],
      "metadata": {
        "id": "PqTLF13PjD_n",
        "colab": {
          "base_uri": "https://localhost:8080/"
        },
        "outputId": "adc65980-d93c-4d2f-bfbd-e458b85e65ca"
      },
      "execution_count": 47,
      "outputs": [
        {
          "output_type": "stream",
          "name": "stdout",
          "text": [
            "False\n",
            "True\n",
            "False\n"
          ]
        }
      ]
    }
  ]
}